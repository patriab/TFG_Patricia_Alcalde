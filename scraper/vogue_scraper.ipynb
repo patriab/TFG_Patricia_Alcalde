{
 "cells": [
  {
   "cell_type": "code",
   "execution_count": 2,
   "metadata": {},
   "outputs": [
    {
     "name": "stdout",
     "output_type": "stream",
     "text": [
      "Collecting selenium\n",
      "  Downloading selenium-4.31.0-py3-none-any.whl.metadata (7.5 kB)\n",
      "Requirement already satisfied: urllib3<3,>=1.26 in c:\\users\\patri\\documents\\universidad\\cuarto\\tfg\\stylegan_env\\lib\\site-packages (from urllib3[socks]<3,>=1.26->selenium) (2.3.0)\n",
      "Collecting trio~=0.17 (from selenium)\n",
      "  Using cached trio-0.29.0-py3-none-any.whl.metadata (8.5 kB)\n",
      "Collecting trio-websocket~=0.9 (from selenium)\n",
      "  Using cached trio_websocket-0.12.2-py3-none-any.whl.metadata (5.1 kB)\n",
      "Requirement already satisfied: certifi>=2021.10.8 in c:\\users\\patri\\documents\\universidad\\cuarto\\tfg\\stylegan_env\\lib\\site-packages (from selenium) (2025.1.31)\n",
      "Requirement already satisfied: typing_extensions~=4.9 in c:\\users\\patri\\documents\\universidad\\cuarto\\tfg\\stylegan_env\\lib\\site-packages (from selenium) (4.12.2)\n",
      "Collecting websocket-client~=1.8 (from selenium)\n",
      "  Using cached websocket_client-1.8.0-py3-none-any.whl.metadata (8.0 kB)\n",
      "Collecting attrs>=23.2.0 (from trio~=0.17->selenium)\n",
      "  Downloading attrs-25.3.0-py3-none-any.whl.metadata (10 kB)\n",
      "Collecting sortedcontainers (from trio~=0.17->selenium)\n",
      "  Using cached sortedcontainers-2.4.0-py2.py3-none-any.whl.metadata (10 kB)\n",
      "Requirement already satisfied: idna in c:\\users\\patri\\documents\\universidad\\cuarto\\tfg\\stylegan_env\\lib\\site-packages (from trio~=0.17->selenium) (3.10)\n",
      "Collecting outcome (from trio~=0.17->selenium)\n",
      "  Using cached outcome-1.3.0.post0-py2.py3-none-any.whl.metadata (2.6 kB)\n",
      "Collecting sniffio>=1.3.0 (from trio~=0.17->selenium)\n",
      "  Using cached sniffio-1.3.1-py3-none-any.whl.metadata (3.9 kB)\n",
      "Collecting cffi>=1.14 (from trio~=0.17->selenium)\n",
      "  Using cached cffi-1.17.1-cp312-cp312-win_amd64.whl.metadata (1.6 kB)\n",
      "Collecting wsproto>=0.14 (from trio-websocket~=0.9->selenium)\n",
      "  Using cached wsproto-1.2.0-py3-none-any.whl.metadata (5.6 kB)\n",
      "Collecting pysocks!=1.5.7,<2.0,>=1.5.6 (from urllib3[socks]<3,>=1.26->selenium)\n",
      "  Using cached PySocks-1.7.1-py3-none-any.whl.metadata (13 kB)\n",
      "Collecting pycparser (from cffi>=1.14->trio~=0.17->selenium)\n",
      "  Using cached pycparser-2.22-py3-none-any.whl.metadata (943 bytes)\n",
      "Collecting h11<1,>=0.9.0 (from wsproto>=0.14->trio-websocket~=0.9->selenium)\n",
      "  Using cached h11-0.14.0-py3-none-any.whl.metadata (8.2 kB)\n",
      "Downloading selenium-4.31.0-py3-none-any.whl (9.4 MB)\n",
      "   ---------------------------------------- 0.0/9.4 MB ? eta -:--:--\n",
      "   ---------------------------------------- 0.1/9.4 MB 1.7 MB/s eta 0:00:06\n",
      "   - -------------------------------------- 0.2/9.4 MB 3.0 MB/s eta 0:00:04\n",
      "   -- ------------------------------------- 0.6/9.4 MB 4.8 MB/s eta 0:00:02\n",
      "   --- ------------------------------------ 0.8/9.4 MB 4.8 MB/s eta 0:00:02\n",
      "   ---- ----------------------------------- 1.0/9.4 MB 4.4 MB/s eta 0:00:02\n",
      "   ----- ---------------------------------- 1.3/9.4 MB 4.8 MB/s eta 0:00:02\n",
      "   ------ --------------------------------- 1.6/9.4 MB 5.0 MB/s eta 0:00:02\n",
      "   -------- ------------------------------- 1.9/9.4 MB 5.2 MB/s eta 0:00:02\n",
      "   --------- ------------------------------ 2.1/9.4 MB 5.4 MB/s eta 0:00:02\n",
      "   ---------- ----------------------------- 2.5/9.4 MB 5.4 MB/s eta 0:00:02\n",
      "   ---------- ----------------------------- 2.5/9.4 MB 5.4 MB/s eta 0:00:02\n",
      "   ----------- ---------------------------- 2.6/9.4 MB 4.9 MB/s eta 0:00:02\n",
      "   ----------- ---------------------------- 2.8/9.4 MB 4.7 MB/s eta 0:00:02\n",
      "   ------------ --------------------------- 2.9/9.4 MB 4.7 MB/s eta 0:00:02\n",
      "   ------------- -------------------------- 3.2/9.4 MB 4.7 MB/s eta 0:00:02\n",
      "   -------------- ------------------------- 3.3/9.4 MB 4.5 MB/s eta 0:00:02\n",
      "   -------------- ------------------------- 3.4/9.4 MB 4.4 MB/s eta 0:00:02\n",
      "   -------------- ------------------------- 3.5/9.4 MB 4.3 MB/s eta 0:00:02\n",
      "   --------------- ------------------------ 3.6/9.4 MB 4.1 MB/s eta 0:00:02\n",
      "   --------------- ------------------------ 3.6/9.4 MB 4.0 MB/s eta 0:00:02\n",
      "   --------------- ------------------------ 3.6/9.4 MB 4.0 MB/s eta 0:00:02\n",
      "   --------------- ------------------------ 3.7/9.4 MB 3.6 MB/s eta 0:00:02\n",
      "   --------------- ------------------------ 3.7/9.4 MB 3.6 MB/s eta 0:00:02\n",
      "   ---------------- ----------------------- 3.8/9.4 MB 3.4 MB/s eta 0:00:02\n",
      "   ---------------- ----------------------- 3.9/9.4 MB 3.3 MB/s eta 0:00:02\n",
      "   ----------------- ---------------------- 4.0/9.4 MB 3.4 MB/s eta 0:00:02\n",
      "   ----------------- ---------------------- 4.2/9.4 MB 3.4 MB/s eta 0:00:02\n",
      "   ------------------ --------------------- 4.3/9.4 MB 3.3 MB/s eta 0:00:02\n",
      "   ------------------ --------------------- 4.4/9.4 MB 3.2 MB/s eta 0:00:02\n",
      "   -------------------- ------------------- 4.7/9.4 MB 3.4 MB/s eta 0:00:02\n",
      "   -------------------- ------------------- 4.7/9.4 MB 3.3 MB/s eta 0:00:02\n",
      "   --------------------- ------------------ 5.0/9.4 MB 3.4 MB/s eta 0:00:02\n",
      "   ---------------------- ----------------- 5.3/9.4 MB 3.4 MB/s eta 0:00:02\n",
      "   ----------------------- ---------------- 5.4/9.4 MB 3.4 MB/s eta 0:00:02\n",
      "   ------------------------ --------------- 5.8/9.4 MB 3.6 MB/s eta 0:00:01\n",
      "   ------------------------- -------------- 6.0/9.4 MB 3.6 MB/s eta 0:00:01\n",
      "   --------------------------- ------------ 6.3/9.4 MB 3.7 MB/s eta 0:00:01\n",
      "   ---------------------------- ----------- 6.7/9.4 MB 3.8 MB/s eta 0:00:01\n",
      "   ----------------------------- ---------- 6.9/9.4 MB 3.8 MB/s eta 0:00:01\n",
      "   ------------------------------ --------- 7.2/9.4 MB 3.9 MB/s eta 0:00:01\n",
      "   ------------------------------- -------- 7.5/9.4 MB 3.9 MB/s eta 0:00:01\n",
      "   --------------------------------- ------ 7.9/9.4 MB 4.0 MB/s eta 0:00:01\n",
      "   ----------------------------------- ---- 8.3/9.4 MB 4.1 MB/s eta 0:00:01\n",
      "   ------------------------------------ --- 8.6/9.4 MB 4.2 MB/s eta 0:00:01\n",
      "   ------------------------------------- -- 8.9/9.4 MB 4.3 MB/s eta 0:00:01\n",
      "   ---------------------------------------  9.2/9.4 MB 4.3 MB/s eta 0:00:01\n",
      "   ---------------------------------------  9.3/9.4 MB 4.3 MB/s eta 0:00:01\n",
      "   ---------------------------------------- 9.4/9.4 MB 4.2 MB/s eta 0:00:00\n",
      "Using cached trio-0.29.0-py3-none-any.whl (492 kB)\n",
      "Using cached trio_websocket-0.12.2-py3-none-any.whl (21 kB)\n",
      "Using cached websocket_client-1.8.0-py3-none-any.whl (58 kB)\n",
      "Downloading attrs-25.3.0-py3-none-any.whl (63 kB)\n",
      "   ---------------------------------------- 0.0/63.8 kB ? eta -:--:--\n",
      "   ---------------------------------------- 63.8/63.8 kB 3.3 MB/s eta 0:00:00\n",
      "Using cached cffi-1.17.1-cp312-cp312-win_amd64.whl (181 kB)\n",
      "Using cached outcome-1.3.0.post0-py2.py3-none-any.whl (10 kB)\n",
      "Using cached PySocks-1.7.1-py3-none-any.whl (16 kB)\n",
      "Using cached sniffio-1.3.1-py3-none-any.whl (10 kB)\n",
      "Using cached wsproto-1.2.0-py3-none-any.whl (24 kB)\n",
      "Using cached sortedcontainers-2.4.0-py2.py3-none-any.whl (29 kB)\n",
      "Using cached h11-0.14.0-py3-none-any.whl (58 kB)\n",
      "Using cached pycparser-2.22-py3-none-any.whl (117 kB)\n",
      "Installing collected packages: sortedcontainers, websocket-client, sniffio, pysocks, pycparser, h11, attrs, wsproto, outcome, cffi, trio, trio-websocket, selenium\n",
      "Successfully installed attrs-25.3.0 cffi-1.17.1 h11-0.14.0 outcome-1.3.0.post0 pycparser-2.22 pysocks-1.7.1 selenium-4.31.0 sniffio-1.3.1 sortedcontainers-2.4.0 trio-0.29.0 trio-websocket-0.12.2 websocket-client-1.8.0 wsproto-1.2.0\n"
     ]
    },
    {
     "name": "stderr",
     "output_type": "stream",
     "text": [
      "\n",
      "[notice] A new release of pip is available: 24.0 -> 25.0.1\n",
      "[notice] To update, run: python.exe -m pip install --upgrade pip\n"
     ]
    }
   ],
   "source": [
    "!pip install selenium"
   ]
  },
  {
   "cell_type": "code",
   "execution_count": 4,
   "metadata": {},
   "outputs": [
    {
     "name": "stdout",
     "output_type": "stream",
     "text": [
      "Collecting webdriver_manager\n",
      "  Downloading webdriver_manager-4.0.2-py2.py3-none-any.whl.metadata (12 kB)\n",
      "Requirement already satisfied: requests in c:\\users\\patri\\documents\\universidad\\cuarto\\tfg\\stylegan_env\\lib\\site-packages (from webdriver_manager) (2.32.3)\n",
      "Collecting python-dotenv (from webdriver_manager)\n",
      "  Downloading python_dotenv-1.1.0-py3-none-any.whl.metadata (24 kB)\n",
      "Requirement already satisfied: packaging in c:\\users\\patri\\documents\\universidad\\cuarto\\tfg\\stylegan_env\\lib\\site-packages (from webdriver_manager) (24.2)\n",
      "Requirement already satisfied: charset-normalizer<4,>=2 in c:\\users\\patri\\documents\\universidad\\cuarto\\tfg\\stylegan_env\\lib\\site-packages (from requests->webdriver_manager) (3.4.1)\n",
      "Requirement already satisfied: idna<4,>=2.5 in c:\\users\\patri\\documents\\universidad\\cuarto\\tfg\\stylegan_env\\lib\\site-packages (from requests->webdriver_manager) (3.10)\n",
      "Requirement already satisfied: urllib3<3,>=1.21.1 in c:\\users\\patri\\documents\\universidad\\cuarto\\tfg\\stylegan_env\\lib\\site-packages (from requests->webdriver_manager) (2.3.0)\n",
      "Requirement already satisfied: certifi>=2017.4.17 in c:\\users\\patri\\documents\\universidad\\cuarto\\tfg\\stylegan_env\\lib\\site-packages (from requests->webdriver_manager) (2025.1.31)\n",
      "Downloading webdriver_manager-4.0.2-py2.py3-none-any.whl (27 kB)\n",
      "Downloading python_dotenv-1.1.0-py3-none-any.whl (20 kB)\n",
      "Installing collected packages: python-dotenv, webdriver_manager\n",
      "Successfully installed python-dotenv-1.1.0 webdriver_manager-4.0.2\n"
     ]
    },
    {
     "name": "stderr",
     "output_type": "stream",
     "text": [
      "\n",
      "[notice] A new release of pip is available: 24.0 -> 25.0.1\n",
      "[notice] To update, run: python.exe -m pip install --upgrade pip\n"
     ]
    }
   ],
   "source": [
    "!pip install webdriver_manager"
   ]
  },
  {
   "cell_type": "code",
   "execution_count": 113,
   "metadata": {},
   "outputs": [],
   "source": [
    "from selenium import webdriver\n",
    "from selenium.webdriver.chrome.service import Service\n",
    "from selenium.webdriver.common.by import By\n",
    "from selenium.webdriver.support.ui import WebDriverWait\n",
    "from selenium.webdriver.support import expected_conditions as EC\n",
    "from webdriver_manager.chrome import ChromeDriverManager\n",
    "import os\n",
    "import requests"
   ]
  },
  {
   "cell_type": "code",
   "execution_count": 179,
   "metadata": {},
   "outputs": [],
   "source": [
    "from selenium.webdriver.chrome.options import Options\n",
    "\n",
    "options = Options()\n",
    "options.add_argument(\"user-agent=Mozilla/5.0 (Windows NT 10.0; Win64; x64) AppleWebKit/537.36 (KHTML, like Gecko) Chrome/123.0.0.0 Safari/537.36\")"
   ]
  },
  {
   "cell_type": "code",
   "execution_count": 180,
   "metadata": {},
   "outputs": [
    {
     "data": {
      "text/plain": [
       "{'identifier': '2'}"
      ]
     },
     "execution_count": 180,
     "metadata": {},
     "output_type": "execute_result"
    }
   ],
   "source": [
    "from selenium import webdriver\n",
    "from selenium.webdriver.chrome.service import Service\n",
    "from selenium.webdriver.common.by import By\n",
    "from selenium.webdriver.chrome.options import Options\n",
    "from webdriver_manager.chrome import ChromeDriverManager\n",
    "\n",
    "options = Options()\n",
    "options.add_argument(\"--disable-blink-features=AutomationControlled\")\n",
    "options.add_experimental_option(\"excludeSwitches\", [\"enable-automation\"])\n",
    "options.add_experimental_option(\"useAutomationExtension\", False)\n",
    "\n",
    "driver = webdriver.Chrome(service=Service(ChromeDriverManager().install()), options=options)\n",
    "\n",
    "# Ejecuta JavaScript para redefinir navigator.webdriver\n",
    "driver.execute_cdp_cmd(\"Page.addScriptToEvaluateOnNewDocument\", {\n",
    "    \"source\": \"\"\"\n",
    "    Object.defineProperty(navigator, 'webdriver', {\n",
    "        get: () => undefined\n",
    "    })\n",
    "    \"\"\"\n",
    "})\n"
   ]
  },
  {
   "cell_type": "code",
   "execution_count": 163,
   "metadata": {},
   "outputs": [],
   "source": [
    "# Configurar el servicio de ChromeDriver\n",
    "service = Service(ChromeDriverManager().install())\n",
    "driver = webdriver.Chrome(service=service)"
   ]
  },
  {
   "cell_type": "code",
   "execution_count": 181,
   "metadata": {},
   "outputs": [],
   "source": [
    "url = \"https://www.vogue.com/fashion-shows/image-archive\"\n",
    "driver.get(url)"
   ]
  },
  {
   "cell_type": "code",
   "execution_count": 182,
   "metadata": {},
   "outputs": [
    {
     "name": "stdout",
     "output_type": "stream",
     "text": [
      "Cookies accepted.\n"
     ]
    }
   ],
   "source": [
    "# Aceptamos las cookies\n",
    "\n",
    "try:\n",
    "    accept_button = WebDriverWait(driver, 10).until(\n",
    "        EC.element_to_be_clickable((By.XPATH, '//*[@id=\"onetrust-accept-btn-handler\"]'))\n",
    "    )\n",
    "    accept_button.click()\n",
    "    print(\"Cookies accepted.\")\n",
    "except Exception as e:\n",
    "    print(\"Couldn't find such button:\", e)"
   ]
  },
  {
   "cell_type": "code",
   "execution_count": 183,
   "metadata": {},
   "outputs": [
    {
     "name": "stdout",
     "output_type": "stream",
     "text": [
      "Accediendo al formulario de inicio de sesión...\n"
     ]
    }
   ],
   "source": [
    "# Vamos a la página de registro\n",
    "\n",
    "try:\n",
    "    WebDriverWait(driver, 10).until(EC.element_to_be_clickable(\n",
    "    (By.XPATH, '//*[@id=\"app-root\"]/div/div/div[6]/div[1]/div/div/div/div[1]/div/div/a')\n",
    "    )).click()\n",
    "    print(\"Accediendo al formulario de inicio de sesión...\")\n",
    "except Exception as e:\n",
    "    print(\"Couldn't find such button:\", e)"
   ]
  },
  {
   "cell_type": "code",
   "execution_count": 184,
   "metadata": {},
   "outputs": [
    {
     "name": "stdout",
     "output_type": "stream",
     "text": [
      "Cookies accepted.\n"
     ]
    }
   ],
   "source": [
    "# Aceptamos cookies de nuevo\n",
    "\n",
    "try:\n",
    "    accept_button = WebDriverWait(driver, 10).until(\n",
    "        EC.element_to_be_clickable((By.XPATH, '//*[@id=\"onetrust-accept-btn-handler\"]'))\n",
    "    )\n",
    "    accept_button.click()\n",
    "    print(\"Cookies accepted.\")\n",
    "except Exception as e:\n",
    "    print(\"Couldn't find such button:\", e)"
   ]
  },
  {
   "cell_type": "code",
   "execution_count": 185,
   "metadata": {},
   "outputs": [],
   "source": [
    "# Credenciales\n",
    "\n",
    "email = \"patrialcalde03@gmail.com\"\n",
    "password = \"alexander_mcqueen_2008\""
   ]
  },
  {
   "cell_type": "code",
   "execution_count": 186,
   "metadata": {},
   "outputs": [
    {
     "name": "stdout",
     "output_type": "stream",
     "text": [
      "Email introduced\n",
      "Signed in successfully\n"
     ]
    }
   ],
   "source": [
    "try:\n",
    "\n",
    "    # email\n",
    "    email_element = WebDriverWait(driver, 10).until(EC.presence_of_element_located((By.ID, \"TextField-id-email\"))).send_keys(email)\n",
    "    WebDriverWait(driver, 10).until(EC.element_to_be_clickable((By.ID, \"email-continue-button\"))).click()\n",
    "    print(\"Email introduced\")\n",
    "\n",
    "    # password\n",
    "    password_element = WebDriverWait(driver, 10).until(EC.presence_of_element_located((By.XPATH, '//*[@id=\"TextField-id-password\"]'))).send_keys(password)\n",
    "    WebDriverWait(driver, 10).until(EC.element_to_be_clickable((By.XPATH, '//*[@id=\"log-in-sign-in-button-password\"]/span'))).click()\n",
    "    print('Signed in successfully')\n",
    "\n",
    "except Exception as e:\n",
    "    print(\"Sign in failed:\", e)"
   ]
  },
  {
   "cell_type": "code",
   "execution_count": null,
   "metadata": {},
   "outputs": [],
   "source": [
    "image_limit = 100  # Cámbialo a lo que quieras\n",
    "\n",
    "# Asegurarse de que la carpeta existe\n",
    "os.makedirs(\"fashion_images_2\", exist_ok=True)\n",
    "\n",
    "# Esperar a que las imágenes estén presentes en el DOM\n",
    "WebDriverWait(driver, 20).until(EC.presence_of_all_elements_located((\n",
    "    By.XPATH, '//*[@id=\"main-content\"]/div/div[3]/div[1]/div/div'\n",
    ")))\n",
    "\n",
    "# Obtener las imágenes\n",
    "images = driver.find_elements(By.XPATH, '//*[@id=\"main-content\"]/div/div[3]/div[1]/div/div')\n",
    "\n",
    "while len(images) < image_limit:\n",
    "    print('Not enough images on this page. Loading more...') \n",
    "    view_more_button = driver.find_element(By.XPATH, '//*[@id=\"main-content\"]/div/div[3]/button/span')\n",
    "    view_more_button.click()\n",
    "    images = WebDriverWait(driver, 20).until(EC.presence_of_all_elements_located((\n",
    "    By.XPATH, '//*[@id=\"main-content\"]/div/div[3]/div[1]/div/div'\n",
    ")))\n",
    "\n",
    "print(len(images))\n",
    "\n",
    "downloaded = 0\n",
    "pic_n = 0\n",
    "\n",
    "for img in images[0:image_limit]:\n",
    "    # print(img)\n",
    "    try:\n",
    "        picture = WebDriverWait(driver, 20).until(\n",
    "            EC.presence_of_element_located((By.XPATH, f'//*[@id=\"main-content\"]/div/div[3]/div[1]/div/div[{pic_n+1}]/span[1]/picture/img'))\n",
    "        )\n",
    "        # print(picture)\n",
    "        src =  picture.get_attribute(\"src\") or picture.get_attribute(\"data-src\")\n",
    "        # print(src)\n",
    "        if not src or \".jpg\" not in src:\n",
    "            print(\"URL inválida, saltando...\")\n",
    "            continue\n",
    "\n",
    "        filename = f'image_{downloaded}.png'\n",
    "\n",
    "        # Ruta de guardado\n",
    "        path = os.path.join(\"fashion_images\", filename)\n",
    "\n",
    "        # Descargar y guardar\n",
    "        response = requests.get(src)\n",
    "        if response.status_code == 200:\n",
    "            with open(path, \"wb\") as f:\n",
    "                f.write(response.content)\n",
    "            print(f\"✅ Imagen guardada: {filename}\")\n",
    "            downloaded += 1\n",
    "        else:\n",
    "            print(f\"❌ No se pudo descargar {src}\")\n",
    "\n",
    "    except Exception as e:\n",
    "        print(f\"⚠️ Error con una imagen: {e}\")\n",
    "\n",
    "    pic_n += 1\n",
    "\n",
    "print(f\"\\n🔚 Descarga completa: {downloaded} imágenes.\")"
   ]
  }
 ],
 "metadata": {
  "kernelspec": {
   "display_name": "stylegan_env",
   "language": "python",
   "name": "python3"
  },
  "language_info": {
   "codemirror_mode": {
    "name": "ipython",
    "version": 3
   },
   "file_extension": ".py",
   "mimetype": "text/x-python",
   "name": "python",
   "nbconvert_exporter": "python",
   "pygments_lexer": "ipython3",
   "version": "3.12.3"
  }
 },
 "nbformat": 4,
 "nbformat_minor": 2
}
